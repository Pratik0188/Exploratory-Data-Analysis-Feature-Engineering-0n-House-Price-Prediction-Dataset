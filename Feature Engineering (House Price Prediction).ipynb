{
 "cells": [
  {
   "cell_type": "markdown",
   "id": "8292be83",
   "metadata": {},
   "source": [
    "<span style=font-size:25px;>Feature Engineering</span></br>\n",
    "</br>\n",
    "<span style=font-size:20px;>\n",
    "The following steps is carried out here:</br>\n",
    "1. Missing Values</br>\n",
    "2. Temporal Variables</br>\n",
    "3. Categorical Variables: remove rare labels</br>\n",
    "4. Standardize the values of the variables to the same range</br>\n",
    "</span>"
   ]
  },
  {
   "cell_type": "code",
   "execution_count": 1,
   "id": "e4b9f9cc",
   "metadata": {},
   "outputs": [],
   "source": [
    "import numpy as np\n",
    "import pandas as pd\n",
    "import matplotlib.pyplot as plt\n",
    "%matplotlib inline\n",
    "\n",
    "# to visualize all columns in the dataset\n",
    "pd.pandas.set_option('display.max_columns',None)"
   ]
  },
  {
   "cell_type": "markdown",
   "id": "1b21bc25",
   "metadata": {},
   "source": [
    "dataset = pd.read_csv('train.csv')\n",
    "dataset.head()"
   ]
  },
  {
   "cell_type": "markdown",
   "id": "64064e89",
   "metadata": {},
   "source": [
    "### To prevent data leakage we split the data first and perform feature-engineering"
   ]
  },
  {
   "cell_type": "code",
   "execution_count": 2,
   "id": "a4aec53b",
   "metadata": {},
   "outputs": [
    {
     "ename": "NameError",
     "evalue": "name 'dataset' is not defined",
     "output_type": "error",
     "traceback": [
      "\u001b[0;31m---------------------------------------------------------------------------\u001b[0m",
      "\u001b[0;31mNameError\u001b[0m                                 Traceback (most recent call last)",
      "Cell \u001b[0;32mIn[2], line 2\u001b[0m\n\u001b[1;32m      1\u001b[0m \u001b[38;5;28;01mfrom\u001b[39;00m \u001b[38;5;21;01msklearn\u001b[39;00m\u001b[38;5;21;01m.\u001b[39;00m\u001b[38;5;21;01mmodel_selection\u001b[39;00m \u001b[38;5;28;01mimport\u001b[39;00m train_test_split\n\u001b[0;32m----> 2\u001b[0m X_train,X_test,y_train,y_test \u001b[38;5;241m=\u001b[39m train_test_split(dataset, dataset[\u001b[38;5;124m'\u001b[39m\u001b[38;5;124mSalePrice\u001b[39m\u001b[38;5;124m'\u001b[39m],test_size\u001b[38;5;241m=\u001b[39m\u001b[38;5;241m.1\u001b[39m,random_state\u001b[38;5;241m=\u001b[39m\u001b[38;5;241m42\u001b[39m)\n",
      "\u001b[0;31mNameError\u001b[0m: name 'dataset' is not defined"
     ]
    }
   ],
   "source": [
    "from sklearn.model_selection import train_test_split\n",
    "X_train,X_test,y_train,y_test = train_test_split(dataset, dataset['SalePrice'],test_size=.1,random_state=42)"
   ]
  },
  {
   "cell_type": "code",
   "execution_count": null,
   "id": "57321d87",
   "metadata": {},
   "outputs": [],
   "source": [
    "X_train.shape, X_test.shape"
   ]
  },
  {
   "cell_type": "markdown",
   "id": "3018ca7b",
   "metadata": {},
   "source": [
    "<span style=font-size:25px;>Missing Values </span></br></br>\n",
    "<span style=font-size:20px;>Firstly, We will handle the missing categorical features in the dataset.</span></br>"
   ]
  },
  {
   "cell_type": "code",
   "execution_count": null,
   "id": "c499c2ae",
   "metadata": {},
   "outputs": [],
   "source": [
    "features_nan = [feature for feature in dataset.columns if dataset[feature].isnull().sum()>1 and dataset[feature].dtype=='O']\n",
    "\n",
    "for feature in features_nan:\n",
    "    print(\"{}: {}% missing values\".format(feature,np.round(dataset[feature].isnull().mean(),4)))"
   ]
  },
  {
   "cell_type": "code",
   "execution_count": null,
   "id": "b3c165b0",
   "metadata": {},
   "outputs": [],
   "source": [
    "## Replace missing value with a new label\n",
    "\n",
    "def replace_cat_feature(dataset,features_nan):\n",
    "    data = dataset.copy()\n",
    "    data[features_nan] = data[features_nan].fillna('Missing')\n",
    "    return data\n",
    "\n",
    "dataset = replace_cat_feature(dataset,features_nan)\n",
    "dataset[features_nan].isnull().sum()"
   ]
  },
  {
   "cell_type": "markdown",
   "id": "f9c5a40e",
   "metadata": {},
   "source": [
    "<span style=font-size:20px;>Mising Numerical Values in Dataset.</span></br>"
   ]
  },
  {
   "cell_type": "code",
   "execution_count": null,
   "id": "3fcccb9f",
   "metadata": {},
   "outputs": [],
   "source": [
    "numerical_with_nan = [feature for feature in dataset.columns if dataset[feature].isnull().sum()>1 and dataset[feature].dtypes!='O']\n",
    "\n",
    "# Printing Numerical NAN values and percentages of missing values\n",
    "\n",
    "for feature in numerical_with_nan:\n",
    "    print( \"{}: {}% missing value\".format(feature,np.round(dataset[feature].isnull().mean(),4)))"
   ]
  },
  {
   "cell_type": "code",
   "execution_count": null,
   "id": "50126ad8",
   "metadata": {},
   "outputs": [],
   "source": [
    "# When we have outliers we replace the NAN values with median or mode .\n",
    "# Replacing the numerical missing values.\n",
    "\n",
    "for feature in numerical_with_nan:\n",
    "    # We will replace by using median since there is outlier.\n",
    "    median_value = dataset[feature].median()\n",
    "    \n",
    "    dataset[feature=='nan']=np.where(dataset[feature].isnull(),1,0)\n",
    "    dataset[feature].fillna(median_value,inplace=True)\n",
    "\n",
    "dataset[numerical_with_nan].isnull().sum()"
   ]
  },
  {
   "cell_type": "code",
   "execution_count": null,
   "id": "8f991fe5",
   "metadata": {},
   "outputs": [],
   "source": [
    "dataset.head(50)"
   ]
  },
  {
   "cell_type": "markdown",
   "id": "aacd98e5",
   "metadata": {},
   "source": [
    "## Temporal Variable (Date-Time Variable)"
   ]
  },
  {
   "cell_type": "code",
   "execution_count": null,
   "id": "8e156e48",
   "metadata": {},
   "outputs": [],
   "source": [
    "for feature in ['YearBuilt','YearRemodAdd','GarageYrBlt']:\n",
    "    dataset[feature] = dataset['YrSold'] - dataset[feature]"
   ]
  },
  {
   "cell_type": "code",
   "execution_count": null,
   "id": "1770cf32",
   "metadata": {},
   "outputs": [],
   "source": [
    "dataset.head()"
   ]
  },
  {
   "cell_type": "code",
   "execution_count": null,
   "id": "a554a09f",
   "metadata": {},
   "outputs": [],
   "source": [
    "dataset[['YearBuilt','YearRemodAdd','GarageYrBlt']].head()"
   ]
  },
  {
   "cell_type": "markdown",
   "id": "f590c005",
   "metadata": {},
   "source": [
    "# Numerical Variables\n",
    "<span style=font-size:20px;>We will log-normal distribution to handle missing data </span></br></br>"
   ]
  },
  {
   "cell_type": "code",
   "execution_count": null,
   "id": "5d030c41",
   "metadata": {},
   "outputs": [],
   "source": [
    "dataset.head()"
   ]
  },
  {
   "cell_type": "code",
   "execution_count": null,
   "id": "30ddc2de",
   "metadata": {},
   "outputs": [],
   "source": [
    "import numpy as np\n",
    "num_features = ['LotFrontage','LotArea','1stFlrSF','GrLivArea','SalePrice']\n",
    "\n",
    "for feature in num_features:\n",
    "    dataset[feature] = np.log(dataset[feature])"
   ]
  },
  {
   "cell_type": "code",
   "execution_count": null,
   "id": "ea1a8246",
   "metadata": {},
   "outputs": [],
   "source": [
    "dataset.head()"
   ]
  },
  {
   "cell_type": "markdown",
   "id": "da3e6576",
   "metadata": {},
   "source": [
    "\n",
    "<span style=font-size:25px;>Handling Rare Categorical Feature</span></br></br>\n",
    "<span style=font-size:18px;> We will remove the categorical variables that are present less than 1% of the observations.</span></br>"
   ]
  },
  {
   "cell_type": "code",
   "execution_count": null,
   "id": "66d1b49c",
   "metadata": {},
   "outputs": [],
   "source": [
    "categorical_features = [feature for feature in dataset.columns if dataset[feature].dtype=='O']"
   ]
  },
  {
   "cell_type": "code",
   "execution_count": null,
   "id": "e06bf86c",
   "metadata": {},
   "outputs": [],
   "source": [
    "categorical_features"
   ]
  },
  {
   "cell_type": "code",
   "execution_count": null,
   "id": "6df23031",
   "metadata": {},
   "outputs": [],
   "source": [
    "for feature in categorical_features:\n",
    "    temp = dataset.groupby(feature)['SalePrice'].count()/len(dataset)\n",
    "    temp_df = temp[temp>0.01].index\n",
    "    dataset[feature] = np.where(dataset[feature].isin(temp_df),dataset[feature],'Rare_var')"
   ]
  },
  {
   "cell_type": "code",
   "execution_count": null,
   "id": "66d3143e",
   "metadata": {},
   "outputs": [],
   "source": [
    "dataset.head(100)"
   ]
  },
  {
   "cell_type": "code",
   "execution_count": null,
   "id": "2d461cf8",
   "metadata": {},
   "outputs": [],
   "source": [
    "# Feature Scaling"
   ]
  },
  {
   "cell_type": "code",
   "execution_count": null,
   "id": "b4cfe818",
   "metadata": {},
   "outputs": [],
   "source": [
    "#feature_scale = [feature for feature in dataset.columns if feature not in ['Id','SalePrice']]\n",
    "\n",
    "# Selecting only numeric features for scaling\n",
    "numeric_features = X_train.select_dtypes(include=['float64', 'int64']).columns\n",
    "\n",
    "from sklearn.preprocessing import MinMaxScaler\n",
    "scaler = MinMaxScaler()\n",
    "scaler.fit(dataset[numeric_features])"
   ]
  },
  {
   "cell_type": "code",
   "execution_count": null,
   "id": "8b0b666a",
   "metadata": {},
   "outputs": [],
   "source": [
    "scaler.transform(dataset[numeric_features])"
   ]
  },
  {
   "cell_type": "code",
   "execution_count": null,
   "id": "9ba530eb",
   "metadata": {},
   "outputs": [],
   "source": [
    "# Transforimg the train and test set and add on the ID and SalePrice Variables.\n",
    "data= pd.concat([dataset[['Id','SalePrice']].reset_index(drop=True),\n",
    "                     pd.DataFrame(scaler.transform(dataset[numeric_features]),columns=numeric_features)],axis=1)"
   ]
  },
  {
   "cell_type": "code",
   "execution_count": null,
   "id": "37a2bd99",
   "metadata": {},
   "outputs": [],
   "source": [
    "data.to_csv('X_train.csv',index=False)"
   ]
  },
  {
   "cell_type": "code",
   "execution_count": null,
   "id": "a7660c15",
   "metadata": {},
   "outputs": [],
   "source": []
  }
 ],
 "metadata": {
  "kernelspec": {
   "display_name": "Python 3 (ipykernel)",
   "language": "python",
   "name": "python3"
  },
  "language_info": {
   "codemirror_mode": {
    "name": "ipython",
    "version": 3
   },
   "file_extension": ".py",
   "mimetype": "text/x-python",
   "name": "python",
   "nbconvert_exporter": "python",
   "pygments_lexer": "ipython3",
   "version": "3.11.4"
  }
 },
 "nbformat": 4,
 "nbformat_minor": 5
}
